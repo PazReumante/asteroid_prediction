{
 "cells": [
  {
   "cell_type": "code",
   "execution_count": 2,
   "metadata": {},
   "outputs": [
    {
     "name": "stderr",
     "output_type": "stream",
     "text": [
      "C:\\Users\\loren\\AppData\\Local\\Temp\\ipykernel_19348\\204054349.py:3: DtypeWarning: Columns (5) have mixed types. Specify dtype option on import or set low_memory=False.\n",
      "  total_data_mv = pd.read_csv('../Project/sampled_dataset.csv')\n"
     ]
    },
    {
     "data": {
      "text/html": [
       "<div>\n",
       "<style scoped>\n",
       "    .dataframe tbody tr th:only-of-type {\n",
       "        vertical-align: middle;\n",
       "    }\n",
       "\n",
       "    .dataframe tbody tr th {\n",
       "        vertical-align: top;\n",
       "    }\n",
       "\n",
       "    .dataframe thead th {\n",
       "        text-align: right;\n",
       "    }\n",
       "</style>\n",
       "<table border=\"1\" class=\"dataframe\">\n",
       "  <thead>\n",
       "    <tr style=\"text-align: right;\">\n",
       "      <th></th>\n",
       "      <th>id</th>\n",
       "      <th>spkid</th>\n",
       "      <th>full_name</th>\n",
       "      <th>pdes</th>\n",
       "      <th>name</th>\n",
       "      <th>prefix</th>\n",
       "      <th>neo</th>\n",
       "      <th>pha</th>\n",
       "      <th>H</th>\n",
       "      <th>diameter</th>\n",
       "      <th>...</th>\n",
       "      <th>sigma_i</th>\n",
       "      <th>sigma_om</th>\n",
       "      <th>sigma_w</th>\n",
       "      <th>sigma_ma</th>\n",
       "      <th>sigma_ad</th>\n",
       "      <th>sigma_n</th>\n",
       "      <th>sigma_tp</th>\n",
       "      <th>sigma_per</th>\n",
       "      <th>class</th>\n",
       "      <th>rms</th>\n",
       "    </tr>\n",
       "  </thead>\n",
       "  <tbody>\n",
       "    <tr>\n",
       "      <th>0</th>\n",
       "      <td>a0323651</td>\n",
       "      <td>2323651</td>\n",
       "      <td>323651 (2005 BR20)</td>\n",
       "      <td>323651</td>\n",
       "      <td>NaN</td>\n",
       "      <td>NaN</td>\n",
       "      <td>N</td>\n",
       "      <td>N</td>\n",
       "      <td>18.2</td>\n",
       "      <td>NaN</td>\n",
       "      <td>...</td>\n",
       "      <td>0.000005</td>\n",
       "      <td>0.000134</td>\n",
       "      <td>0.000138</td>\n",
       "      <td>0.000034</td>\n",
       "      <td>1.785700e-08</td>\n",
       "      <td>2.987900e-09</td>\n",
       "      <td>0.000114</td>\n",
       "      <td>0.000013</td>\n",
       "      <td>MBA</td>\n",
       "      <td>0.73452</td>\n",
       "    </tr>\n",
       "  </tbody>\n",
       "</table>\n",
       "<p>1 rows × 45 columns</p>\n",
       "</div>"
      ],
      "text/plain": [
       "         id    spkid           full_name    pdes name prefix neo pha     H  \\\n",
       "0  a0323651  2323651  323651 (2005 BR20)  323651  NaN    NaN   N   N  18.2   \n",
       "\n",
       "   diameter  ...   sigma_i  sigma_om   sigma_w  sigma_ma      sigma_ad  \\\n",
       "0       NaN  ...  0.000005  0.000134  0.000138  0.000034  1.785700e-08   \n",
       "\n",
       "        sigma_n  sigma_tp  sigma_per  class      rms  \n",
       "0  2.987900e-09  0.000114   0.000013    MBA  0.73452  \n",
       "\n",
       "[1 rows x 45 columns]"
      ]
     },
     "execution_count": 2,
     "metadata": {},
     "output_type": "execute_result"
    }
   ],
   "source": [
    "import pandas as pd\n",
    "\n",
    "total_data_mv = pd.read_csv('../Project/sampled_dataset.csv')\n",
    "\n",
    "total_data_mv.head(1)"
   ]
  },
  {
   "cell_type": "code",
   "execution_count": 4,
   "metadata": {},
   "outputs": [
    {
     "data": {
      "text/html": [
       "<div>\n",
       "<style scoped>\n",
       "    .dataframe tbody tr th:only-of-type {\n",
       "        vertical-align: middle;\n",
       "    }\n",
       "\n",
       "    .dataframe tbody tr th {\n",
       "        vertical-align: top;\n",
       "    }\n",
       "\n",
       "    .dataframe thead th {\n",
       "        text-align: right;\n",
       "    }\n",
       "</style>\n",
       "<table border=\"1\" class=\"dataframe\">\n",
       "  <thead>\n",
       "    <tr style=\"text-align: right;\">\n",
       "      <th></th>\n",
       "      <th>H</th>\n",
       "      <th>a</th>\n",
       "      <th>q</th>\n",
       "      <th>ad</th>\n",
       "      <th>n</th>\n",
       "      <th>tp_cal</th>\n",
       "      <th>per_y</th>\n",
       "      <th>moid</th>\n",
       "      <th>class_n</th>\n",
       "    </tr>\n",
       "  </thead>\n",
       "  <tbody>\n",
       "    <tr>\n",
       "      <th>0</th>\n",
       "      <td>18.2</td>\n",
       "      <td>2.268877</td>\n",
       "      <td>1.952481</td>\n",
       "      <td>2.585274</td>\n",
       "      <td>0.288395</td>\n",
       "      <td>2.018092e+07</td>\n",
       "      <td>3.417628</td>\n",
       "      <td>0.968024</td>\n",
       "      <td>0</td>\n",
       "    </tr>\n",
       "  </tbody>\n",
       "</table>\n",
       "</div>"
      ],
      "text/plain": [
       "      H         a         q        ad         n        tp_cal     per_y  \\\n",
       "0  18.2  2.268877  1.952481  2.585274  0.288395  2.018092e+07  3.417628   \n",
       "\n",
       "       moid  class_n  \n",
       "0  0.968024        0  "
      ]
     },
     "execution_count": 4,
     "metadata": {},
     "output_type": "execute_result"
    }
   ],
   "source": [
    "# Borrado de variables \n",
    "total_data_mv[\"neo_n\"] = pd.factorize(total_data_mv[\"neo\"])[0]\n",
    "total_data_mv[\"pha_n\"] = pd.factorize(total_data_mv[\"pha\"])[0]\n",
    "total_data_mv[\"class_n\"] = pd.factorize(total_data_mv[\"class\"])[0]\n",
    "total_data_mv.drop([\"id\", \"spkid\", \"full_name\",\"pdes\",\"name\",\"prefix\",\"orbit_id\",\"rms\",\"sigma_e\",'sigma_e', 'sigma_a', 'sigma_q', 'sigma_i', 'sigma_om', 'sigma_w', 'sigma_ma', 'sigma_ad', 'sigma_n', 'sigma_tp', 'sigma_per','equinox','epoch','epoch_cal',\"per\",\"moid_ld\", \"epoch_mjd\",\"e\", \"i\", \"om\", \"w\", \"ma\", \"tp\",\"neo_n\",\"pha_n\",\"diameter\",\"diameter_sigma\",\"albedo\",\"class\", \"neo\", \"pha\"], axis = 1, inplace = True)\n",
    "total_data_mv.head(1)\n"
   ]
  }
 ],
 "metadata": {
  "kernelspec": {
   "display_name": "Python 3",
   "language": "python",
   "name": "python3"
  },
  "language_info": {
   "codemirror_mode": {
    "name": "ipython",
    "version": 3
   },
   "file_extension": ".py",
   "mimetype": "text/x-python",
   "name": "python",
   "nbconvert_exporter": "python",
   "pygments_lexer": "ipython3",
   "version": "3.11.9"
  }
 },
 "nbformat": 4,
 "nbformat_minor": 2
}
