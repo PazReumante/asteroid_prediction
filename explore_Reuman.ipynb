{
 "cells": [
  {
   "cell_type": "code",
   "execution_count": 3,
   "metadata": {},
   "outputs": [],
   "source": [
    "import csv\n",
    " \n",
    "def write_csv(filename, data, header=None):\n",
    "    with open(filename, 'w') as file:\n",
    "        writer = csv.writer(file)\n",
    "        if header:\n",
    "            writer.writerow(header)\n",
    "        writer.writerows(data)\n",
    " \n",
    "def split_csv(filename, num_rows, has_header=True):\n",
    "    name, extension = filename.split('.')\n",
    "    file_no = 1\n",
    "    chunk = []\n",
    "    row_count = 0\n",
    "    header = ''\n",
    " \n",
    "    with open(filename, 'r') as file:\n",
    "        reader = csv.reader(file)\n",
    "        for row in reader:\n",
    "            if has_header:\n",
    "                header = row\n",
    "                has_header = False\n",
    "                continue\n",
    "            chunk.append(row)\n",
    "            row_count += 1\n",
    "            if row_count >= num_rows:\n",
    "                write_csv(f'{name}-{file_no}.{extension}', chunk, header)\n",
    "                chunk = []\n",
    "                file_no += 1\n",
    "                row_count = 0\n",
    "        if chunk:\n",
    "            write_csv(f'{name}-{file_no}.{extension}', chunk, header)"
   ]
  },
  {
   "cell_type": "code",
   "execution_count": 12,
   "metadata": {},
   "outputs": [
    {
     "name": "stderr",
     "output_type": "stream",
     "text": [
      "C:\\Users\\USER\\AppData\\Local\\Temp\\ipykernel_8092\\2122012710.py:5: DtypeWarning: Columns (3,4) have mixed types. Specify dtype option on import or set low_memory=False.\n",
      "  for i, chunk in enumerate(pd.read_csv(file_path, chunksize=chunk_size)):\n",
      "C:\\Users\\USER\\AppData\\Local\\Temp\\ipykernel_8092\\2122012710.py:5: DtypeWarning: Columns (4,5) have mixed types. Specify dtype option on import or set low_memory=False.\n",
      "  for i, chunk in enumerate(pd.read_csv(file_path, chunksize=chunk_size)):\n"
     ]
    }
   ],
   "source": [
    "def split_csv(file_path, chunk_size):\n",
    "    import pandas as pd\n",
    "    \n",
    "    # Read the CSV file in chunks\n",
    "    for i, chunk in enumerate(pd.read_csv(file_path, chunksize=chunk_size)):\n",
    "        # Create a new file name with the part number\n",
    "        new_file_name = f\"{file_path[:-4]}_part{i+1}.csv\"\n",
    "        # Save the chunk to a new CSV file\n",
    "        chunk.to_csv(new_file_name, index=False)\n",
    "\n",
    "# Use raw string to specify the file path\n",
    "split_csv(r\"C:\\Users\\USER\\Documents\\repos\\1_ ASTEROID\\dataset.csv\", 200000)\n"
   ]
  }
 ],
 "metadata": {
  "kernelspec": {
   "display_name": "Python 3",
   "language": "python",
   "name": "python3"
  },
  "language_info": {
   "codemirror_mode": {
    "name": "ipython",
    "version": 3
   },
   "file_extension": ".py",
   "mimetype": "text/x-python",
   "name": "python",
   "nbconvert_exporter": "python",
   "pygments_lexer": "ipython3",
   "version": "3.12.0"
  }
 },
 "nbformat": 4,
 "nbformat_minor": 2
}
